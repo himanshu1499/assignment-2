{
 "cells": [
  {
   "cell_type": "code",
   "execution_count": 3,
   "id": "b280c2f2-4c16-4208-9b8f-392827374488",
   "metadata": {},
   "outputs": [
    {
     "name": "stdout",
     "output_type": "stream",
     "text": [
      "10\n",
      "9\n",
      "8\n",
      "7\n",
      "6\n",
      "5\n",
      "4\n",
      "3\n",
      "2\n",
      "1\n"
     ]
    }
   ],
   "source": [
    "reverse a while loop to display number from 10 to 1 \n",
    "i = 10\n",
    "while i > 0:\n",
    "    print(i)\n",
    "    i = i - 1"
   ]
  },
  {
   "cell_type": "code",
   "execution_count": null,
   "id": "3c45ba7f-80d7-4f61-98e9-a67be6346bb0",
   "metadata": {},
   "outputs": [],
   "source": [
    "why and when to use while loop in python with example\n",
    "\n",
    "ans-Python while loop is used to run a block code until a certain condition is met. \n",
    "Here, A while loop evaluates the condition. If the condition evaluates to True ,\n",
    "the code inside the while loop is executed.\n",
    "\n",
    "Example-\n",
    "count = 0\n",
    "while (count < 3):\n",
    "    count = count + 1\n",
    "    print(\"pwskills\")"
   ]
  },
  {
   "cell_type": "code",
   "execution_count": 2,
   "id": "d72f12ca-27e4-47b8-9f9d-2130ff665caa",
   "metadata": {},
   "outputs": [
    {
     "name": "stdin",
     "output_type": "stream",
     "text": [
      "enter marks 55\n"
     ]
    },
    {
     "name": "stdout",
     "output_type": "stream",
     "text": [
      "grade D\n"
     ]
    }
   ],
   "source": [
    "#write a program to accept percentage from the user and display the grades\n",
    "\n",
    "marks =  int(input(\"enter marks\"))\n",
    "if marks >=90:\n",
    "    print(\"grade A\")\n",
    "elif marks >80 and marks<=90:\n",
    "    print(\"grade B\")\n",
    "elif marks >=60 and marks<=80:\n",
    "    print(\"grade C\")\n",
    "elif marks < 60:\n",
    "     print(\"grade D\")\n",
    "        \n"
   ]
  },
  {
   "cell_type": "markdown",
   "id": "7cee26d8-dfbb-4468-b8c7-07c4c6c299f7",
   "metadata": {},
   "source": [
    "# accept any city from the user and display monuments of that city."
   ]
  },
  {
   "cell_type": "code",
   "execution_count": 28,
   "id": "2921366f-79cc-462f-952a-9485148e6223",
   "metadata": {},
   "outputs": [
    {
     "name": "stdout",
     "output_type": "stream",
     "text": [
      "dict_keys(['delhi', 'agra', 'jaipur'])\n"
     ]
    },
    {
     "name": "stdin",
     "output_type": "stream",
     "text": [
      "select any city :-  Agra :- taj mahal\n"
     ]
    }
   ],
   "source": [
    "city ={\"delhi\":\"red fort\",\"agra\":\"taj mahal\",\"jaipur\":\"jal mahal\"}\n",
    "print(city.keys())\n",
    "\n",
    "select = input(\"select any city :- \").upper()\n",
    "\n",
    "for i in (city.keys()):\n",
    "    if i[0]==select[0]:\n",
    "        print(i,\":-\",city[i])\n",
    "    else :\n",
    "        pass"
   ]
  },
  {
   "cell_type": "markdown",
   "id": "e4530093-e29a-4f00-830b-9b350530e73a",
   "metadata": {},
   "source": [
    "# use nested while loop to print 3 different pattern."
   ]
  },
  {
   "cell_type": "code",
   "execution_count": 31,
   "id": "2f48a0b3-c1cf-4a90-8507-d769729ee975",
   "metadata": {},
   "outputs": [
    {
     "name": "stdout",
     "output_type": "stream",
     "text": [
      "* \n",
      "** \n",
      "*** \n",
      "**** \n",
      "***** \n"
     ]
    }
   ],
   "source": [
    "# making left triangle pattern\n",
    "i=0\n",
    "while i<5:\n",
    "    print((i+1)*\"*\",end=\" \")\n",
    "    i+=1\n",
    "    print()\n"
   ]
  },
  {
   "cell_type": "code",
   "execution_count": 32,
   "id": "e38fdd70-278e-40f8-803a-c7046ff4158e",
   "metadata": {},
   "outputs": [],
   "source": [
    "# making square pattern "
   ]
  },
  {
   "cell_type": "code",
   "execution_count": 37,
   "id": "ee465778-dbaf-437c-b2d2-46684dd77abc",
   "metadata": {},
   "outputs": [
    {
     "name": "stdout",
     "output_type": "stream",
     "text": [
      "@ @ @ @ @ @ \n",
      "@ @ @ @ @ @ \n",
      "@ @ @ @ @ @ \n",
      "@ @ @ @ @ @ \n",
      "@ @ @ @ @ @ \n",
      "@ @ @ @ @ @ \n"
     ]
    }
   ],
   "source": [
    "i=0\n",
    "while i<=5:\n",
    "    i+=1\n",
    "    j=0\n",
    "    while j<=5:\n",
    "        print(\"@\",end=\" \")\n",
    "        j+=1\n",
    "    print()"
   ]
  },
  {
   "cell_type": "code",
   "execution_count": null,
   "id": "7bc39523-c445-4c5a-9e62-2471efc02a26",
   "metadata": {},
   "outputs": [],
   "source": [
    "# making right triangle pattern\n",
    "i=0\n",
    "while i<4:\n",
    "    print((i+1)*\"$\",end=\" \")\n",
    "    i+=1\n",
    "    print()"
   ]
  },
  {
   "cell_type": "code",
   "execution_count": null,
   "id": "6c69038a-ce15-41ef-a96c-5bacc0494069",
   "metadata": {},
   "outputs": [],
   "source": [
    "# making inverted right triangle pattern\n"
   ]
  },
  {
   "cell_type": "code",
   "execution_count": null,
   "id": "9206f71f-1916-4fd8-9feb-ab951314ded7",
   "metadata": {},
   "outputs": [],
   "source": [
    "n = int(input('Enter number of rows : '))\n",
    " \n",
    "i = 1\n",
    "while i <= n :\n",
    "    j = n\n",
    "    while j >= i:\n",
    "        print(\"*\", end = \" \")\n",
    "        j -= 1\n",
    "    print()\n",
    "    i += 1"
   ]
  },
  {
   "cell_type": "markdown",
   "id": "72876445-9047-4bc8-8070-f2c924c33246",
   "metadata": {},
   "source": [
    "# check how many times a given number can be divided by 3 before it is less than or equal to 10."
   ]
  },
  {
   "cell_type": "code",
   "execution_count": null,
   "id": "c1fcb48f-3d29-43ff-948f-0a9edeffeb87",
   "metadata": {},
   "outputs": [],
   "source": [
    "i=0\n",
    "count =0\n",
    "while i<10:\n",
    "    i+=1\n",
    "    while i%3==0:\n",
    "        num=i/3\n",
    "        count+=1\n",
    "        print(\"i=\",i,\"num=\",num,\"count=\",count)\n",
    "        break\n",
    "        print(i)"
   ]
  },
  {
   "cell_type": "code",
   "execution_count": null,
   "id": "df825532-b1e2-45ee-8f37-e1dc12b094ed",
   "metadata": {},
   "outputs": [],
   "source": [
    "x=int(input())\n",
    "\n",
    "count=0\n",
    "\n",
    "while()"
   ]
  },
  {
   "cell_type": "code",
   "execution_count": null,
   "id": "0b3fa88c-158f-453c-9f80-54d7ff2014c0",
   "metadata": {},
   "outputs": [],
   "source": []
  },
  {
   "cell_type": "code",
   "execution_count": null,
   "id": "05f0c41e-598e-42b1-86d4-b118b909cf19",
   "metadata": {},
   "outputs": [],
   "source": []
  }
 ],
 "metadata": {
  "kernelspec": {
   "display_name": "Python 3 (ipykernel)",
   "language": "python",
   "name": "python3"
  },
  "language_info": {
   "codemirror_mode": {
    "name": "ipython",
    "version": 3
   },
   "file_extension": ".py",
   "mimetype": "text/x-python",
   "name": "python",
   "nbconvert_exporter": "python",
   "pygments_lexer": "ipython3",
   "version": "3.10.6"
  }
 },
 "nbformat": 4,
 "nbformat_minor": 5
}
